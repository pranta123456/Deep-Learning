{
  "nbformat": 4,
  "nbformat_minor": 0,
  "metadata": {
    "colab": {
      "name": "LeNet.ipynb",
      "provenance": []
    },
    "kernelspec": {
      "name": "python3",
      "display_name": "Python 3"
    }
  },
  "cells": [
    {
      "cell_type": "code",
      "metadata": {
        "id": "uWGxXc2P6tjX"
      },
      "source": [
        "import tensorflow as tf\r\n",
        "from tensorflow.keras.datasets import mnist\r\n",
        "from keras.models import Sequential\r\n",
        "from keras.layers import Dense,Flatten\r\n",
        "from keras.layers import Conv2D, MaxPooling2D\r\n",
        "from tensorflow.keras import utils"
      ],
      "execution_count": null,
      "outputs": []
    },
    {
      "cell_type": "code",
      "metadata": {
        "id": "P-WZkIGWRS2D"
      },
      "source": [
        "height,width=28,28\r\n",
        "depth=1\r\n",
        "classes=10\r\n",
        "\r\n",
        "model=Sequential()\r\n",
        "\r\n",
        "# CONV => RELU => POOL\r\n",
        "model.add(Conv2D(6,kernel_size=5,activation=\"relu\",input_shape=(32,32,1)))\r\n",
        "model.add(MaxPooling2D(pool_size=(2,2),strides=(2,2)))\r\n",
        "\r\n",
        "# CONV => RELU => POOL\r\n",
        "model.add(Conv2D(16,kernel_size=5,activation=\"relu\"))\r\n",
        "model.add(MaxPooling2D(pool_size=(2,2),strides=(2,2)))\r\n",
        "\r\n",
        "# FC => RELU LAYERS\r\n",
        "model.add(Flatten())\r\n",
        "model.add(Dense(120,activation='relu'))\r\n",
        "model.add(Dense(84,activation=\"relu\"))\r\n",
        "\r\n",
        "# OUTPUT SOFTMAX LAYER\r\n",
        "model.add(Dense(classes,activation=\"softmax\"))"
      ],
      "execution_count": 49,
      "outputs": []
    },
    {
      "cell_type": "code",
      "metadata": {
        "colab": {
          "base_uri": "https://localhost:8080/"
        },
        "id": "P5AhzGkTa2DQ",
        "outputId": "6e4498b1-c650-4734-dfd8-841248aed540"
      },
      "source": [
        "model.summary()"
      ],
      "execution_count": 50,
      "outputs": [
        {
          "output_type": "stream",
          "text": [
            "Model: \"sequential_2\"\n",
            "_________________________________________________________________\n",
            "Layer (type)                 Output Shape              Param #   \n",
            "=================================================================\n",
            "conv2d_4 (Conv2D)            (None, 28, 28, 6)         156       \n",
            "_________________________________________________________________\n",
            "max_pooling2d_4 (MaxPooling2 (None, 14, 14, 6)         0         \n",
            "_________________________________________________________________\n",
            "conv2d_5 (Conv2D)            (None, 10, 10, 16)        2416      \n",
            "_________________________________________________________________\n",
            "max_pooling2d_5 (MaxPooling2 (None, 5, 5, 16)          0         \n",
            "_________________________________________________________________\n",
            "flatten_2 (Flatten)          (None, 400)               0         \n",
            "_________________________________________________________________\n",
            "dense_5 (Dense)              (None, 120)               48120     \n",
            "_________________________________________________________________\n",
            "dense_6 (Dense)              (None, 84)                10164     \n",
            "_________________________________________________________________\n",
            "dense_7 (Dense)              (None, 10)                850       \n",
            "=================================================================\n",
            "Total params: 61,706\n",
            "Trainable params: 61,706\n",
            "Non-trainable params: 0\n",
            "_________________________________________________________________\n"
          ],
          "name": "stdout"
        }
      ]
    },
    {
      "cell_type": "code",
      "metadata": {
        "colab": {
          "base_uri": "https://localhost:8080/"
        },
        "id": "Fs3piCfrnzIJ",
        "outputId": "01ad5f36-d45c-42bf-eab9-18fe4e4cdbd7"
      },
      "source": [
        "(X_train,y_train),(X_test,y_test)=mnist.load_data()"
      ],
      "execution_count": null,
      "outputs": [
        {
          "output_type": "stream",
          "text": [
            "Downloading data from https://storage.googleapis.com/tensorflow/tf-keras-datasets/mnist.npz\n",
            "11493376/11490434 [==============================] - 0s 0us/step\n"
          ],
          "name": "stdout"
        }
      ]
    },
    {
      "cell_type": "code",
      "metadata": {
        "id": "elwLME4wmqwr"
      },
      "source": [
        "X_train=X_train.reshape(X_train.shape[0],28,28,1)\r\n",
        "X_test=X_test.reshape(X_test.shape[0],28,28,1)"
      ],
      "execution_count": null,
      "outputs": []
    },
    {
      "cell_type": "code",
      "metadata": {
        "id": "UhB3R0FEoL2I"
      },
      "source": [
        "X_train=X_train/255\r\n",
        "X_test=X_test/255"
      ],
      "execution_count": null,
      "outputs": []
    },
    {
      "cell_type": "code",
      "metadata": {
        "id": "rCPsoNOfot-6"
      },
      "source": [
        "Y_train=utils.to_categorical(y_train,10)\r\n",
        "Y_test=utils.to_categorical(y_test,10)"
      ],
      "execution_count": null,
      "outputs": []
    },
    {
      "cell_type": "code",
      "metadata": {
        "colab": {
          "base_uri": "https://localhost:8080/"
        },
        "id": "Fi6pG_BrsCOU",
        "outputId": "34e19b58-9327-4d01-c2c0-cb1d5a4a1c9b"
      },
      "source": [
        "model.compile(optimizer=\"sgd\",loss=\"categorical_crossentropy\",metrics=[\"accuracy\"])\r\n",
        "History=model.fit(X_train_new,Y_train,batch_size=128,epochs=10,validation_data=(X_test_new,Y_test))"
      ],
      "execution_count": 51,
      "outputs": [
        {
          "output_type": "stream",
          "text": [
            "Epoch 1/10\n",
            "469/469 [==============================] - 30s 64ms/step - loss: 1.7945 - accuracy: 0.3887 - val_loss: 0.4182 - val_accuracy: 0.8659\n",
            "Epoch 2/10\n",
            "469/469 [==============================] - 30s 63ms/step - loss: 0.3394 - accuracy: 0.8978 - val_loss: 0.2206 - val_accuracy: 0.9367\n",
            "Epoch 3/10\n",
            "469/469 [==============================] - 30s 63ms/step - loss: 0.2320 - accuracy: 0.9295 - val_loss: 0.2041 - val_accuracy: 0.9377\n",
            "Epoch 4/10\n",
            "469/469 [==============================] - 30s 63ms/step - loss: 0.1794 - accuracy: 0.9467 - val_loss: 0.1385 - val_accuracy: 0.9587\n",
            "Epoch 5/10\n",
            "469/469 [==============================] - 30s 63ms/step - loss: 0.1505 - accuracy: 0.9545 - val_loss: 0.1141 - val_accuracy: 0.9676\n",
            "Epoch 6/10\n",
            "469/469 [==============================] - 30s 63ms/step - loss: 0.1224 - accuracy: 0.9624 - val_loss: 0.1014 - val_accuracy: 0.9694\n",
            "Epoch 7/10\n",
            "469/469 [==============================] - 30s 63ms/step - loss: 0.1128 - accuracy: 0.9657 - val_loss: 0.0972 - val_accuracy: 0.9716\n",
            "Epoch 8/10\n",
            "469/469 [==============================] - 30s 63ms/step - loss: 0.1030 - accuracy: 0.9679 - val_loss: 0.0940 - val_accuracy: 0.9724\n",
            "Epoch 9/10\n",
            "469/469 [==============================] - 30s 63ms/step - loss: 0.0914 - accuracy: 0.9720 - val_loss: 0.0790 - val_accuracy: 0.9750\n",
            "Epoch 10/10\n",
            "469/469 [==============================] - 29s 63ms/step - loss: 0.0870 - accuracy: 0.9741 - val_loss: 0.0765 - val_accuracy: 0.9751\n"
          ],
          "name": "stdout"
        }
      ]
    },
    {
      "cell_type": "code",
      "metadata": {
        "id": "o031ErwxppGp"
      },
      "source": [
        "import matplotlib.pyplot as plt\r\n",
        "\r\n",
        "def plt_dynamic(x,vy,ty,ax,colors=['b']):\r\n",
        "  ax.plot(x,vy,'b',label=\"Val Loss\")\r\n",
        "  ax.plot(x,ty,'r',label=\"Training Loss\")\r\n",
        "  plt.legend()\r\n",
        "  plt.grid()\r\n",
        "  fig.canvas.draw()\r\n"
      ],
      "execution_count": null,
      "outputs": []
    },
    {
      "cell_type": "code",
      "metadata": {
        "colab": {
          "base_uri": "https://localhost:8080/",
          "height": 298
        },
        "id": "f3_ff9PrvhT0",
        "outputId": "bdb6cc86-780b-4061-e4f7-8a5e0bb97db7"
      },
      "source": [
        "Score=model.evaluate(X_test_new,Y_test,verbose=0)\r\n",
        "print(Score[1])\r\n",
        "\r\n",
        "x=list(range(1,11))\r\n",
        "\r\n",
        "fig,ax=plt.subplots(1,1)\r\n",
        "ax.set_xlabel(\"Epoch\")\r\n",
        "ax.set_ylabel(\"Categorical Crossentropy Loss\")\r\n",
        "\r\n",
        "vy=History.history['val_loss']\r\n",
        "ty=History.history['loss']\r\n",
        "\r\n",
        "plt_dynamic(x,vy,ty,ax)\r\n",
        "plt.show()"
      ],
      "execution_count": 53,
      "outputs": [
        {
          "output_type": "stream",
          "text": [
            "0.9750999808311462\n"
          ],
          "name": "stdout"
        },
        {
          "output_type": "display_data",
          "data": {
            "image/png": "[encoded data removed]",
            "text/plain": [
              "<Figure size 432x288 with 1 Axes>"
            ]
          },
          "metadata": {
            "tags": [],
            "needs_background": "light"
          }
        }
      ]
    },
    {
      "cell_type": "code",
      "metadata": {
        "id": "ap71TwPu9lmz"
      },
      "source": [
        "import numpy as np"
      ],
      "execution_count": 42,
      "outputs": []
    },
    {
      "cell_type": "code",
      "metadata": {
        "id": "GkXKp129AFp5"
      },
      "source": [
        "X_train_new=np.pad(X_train,((0,0),(2,2),(2,2),(0,0)),mode='constant')\r\n",
        "X_test_new=np.pad(X_test,((0,0),(2,2),(2,2),(0,0)),mode='constant')"
      ],
      "execution_count": 45,
      "outputs": []
    }
  ]
}